{
 "cells": [
  {
   "cell_type": "code",
   "execution_count": 1,
   "metadata": {
    "collapsed": false
   },
   "outputs": [],
   "source": [
    "import util\n",
    "import os\n",
    "from IPython.core.display import Markdown\n",
    "benchmark = 'lj-liquid'"
   ]
  },
  {
   "cell_type": "code",
   "execution_count": 2,
   "metadata": {
    "collapsed": false
   },
   "outputs": [
    {
     "data": {
      "text/markdown": [
       "# lj-liquid benchmark\n",
       "\n",
       "The Lennard-Jones liquid benchmark is a classic benchmark for general-purpose\n",
       "MD simulations. It is representative of the performance HOOMD-blue achieves\n",
       "with straight pair potential simulations.\n",
       "\n",
       "<img src=\"lj-liquid/lj-liquid.png\" style=\"width: 280px;\"/>\n",
       "\n",
       "Parameters:\n",
       "\n",
       "* $N = 64000$\n",
       "* $\\rho = 0.382$\n",
       "* Lennard-Jones pair force\n",
       "    * $r_\\mathrm{cut} = 3.0$\n",
       "    * $\\epsilon = 1.0$\n",
       "    * $\\sigma = 1.0$\n",
       "    * $\\delta t = 0.005$\n",
       "* Integration: Nos&eacute;-Hoover NVT\n",
       "    * $T=1.2$\n",
       "    * $\\tau=0.5$\n"
      ],
      "text/plain": [
       "<IPython.core.display.Markdown object>"
      ]
     },
     "execution_count": 2,
     "metadata": {},
     "output_type": "execute_result"
    }
   ],
   "source": [
    "Markdown(open(os.path.join(benchmark, 'README.md'), 'r').read())"
   ]
  },
  {
   "cell_type": "markdown",
   "metadata": {},
   "source": [
    "## Performance data\n",
    "\n",
    "Performance results are reported in hours to complete ten million time steps."
   ]
  },
  {
   "cell_type": "code",
   "execution_count": 3,
   "metadata": {
    "collapsed": false,
    "scrolled": false
   },
   "outputs": [
    {
     "data": {
      "text/markdown": [
       "| Date | System | Compiler | CUDA | HOOMD | Precision | N | CPU | GPU | Ranks | Time for 10e6 steps (hours)|\n",
       "|------|--------|----------|------|-------|-----------|---|-----|-----|-------|---------------:|\n",
       "| 2016/10/23 | psg | gcc 4.8.5 | 8.0 | 2.1.1 | double | 64,000 |  Intel(R) Xeon(R) CPU E5-2698 v3 @ 2.30GHz | **Tesla P100-PCIE-16GB** | 1 | 1.22 |\n",
       "| 2016/10/23 | psg | gcc 4.8.5 | 8.0 | 2.1.1 | double | 64,000 |  Intel(R) Xeon(R) CPU E5-2698 v3 @ 2.30GHz | **Tesla K80** | 1 | 3.81 |\n",
       "| 2016/10/23 | psg | gcc 4.8.5 | 8.0 | 2.1.1 | double | 64,000 |  Intel(R) Xeon(R) CPU E5-2698 v3 @ 2.30GHz | **Tesla K40m** | 1 | 4.00 |\n",
       "| 2016/10/23 | psg | gcc 4.8.5 | 8.0 | 2.1.1 | double | 64,000 |  Intel(R) Xeon(R) CPU E5-2698 v3 @ 2.30GHz | **Tesla M40 24GB** | 1 | 9.38 |\n",
       "| 2016/10/12 | psg | gcc 4.8.5 | 8.0 | 2.1.0 | double | 64,000 |  Intel(R) Xeon(R) CPU E5-2698 v3 @ 2.30GHz | **Tesla P100-PCIE-16GB** | 1 | 1.23 |\n",
       "| 2016/10/12 | psg | gcc 4.8.5 | 8.0 | 2.1.0 | double | 64,000 |  Intel(R) Xeon(R) CPU E5-2698 v3 @ 2.30GHz | **Tesla K80** | 1 | 3.85 |\n",
       "| 2016/10/13 | psg | gcc 4.8.5 | 7.5 | 2.1.0 | double | 64,000 |  Intel(R) Xeon(R) CPU E5-2698 v3 @ 2.30GHz | **Tesla K40m** | 1 | 4.00 |\n",
       "| 2016/10/13 | psg | gcc 4.8.5 | 7.5 | 2.1.0 | double | 64,000 |  Intel(R) Xeon(R) CPU E5-2698 v3 @ 2.30GHz | **Tesla M40 24GB** | 1 | 9.39 |\n",
       "| 2016/09/13 | collins | gcc 4.8.5 | 7.5 | 2.0.3 | double | 64,000 |  Intel(R) Xeon(R) CPU E5-2680 v2 @ 2.80GHz | **Tesla K40c** | 1 | 3.40 |\n",
       "| 2016/09/13 | collins | gcc 4.8.5 | 7.5 | 2.0.3 | double | 64,000 |  Intel(R) Xeon(R) CPU E5-2680 v2 @ 2.80GHz | **TITAN X** | 1 | 5.18 |\n",
       "| 2016/09/13 | collins | gcc 4.8.5 | 7.5 | 2.0.3 | double | 64,000 |  Intel(R) Xeon(R) CPU E5-2680 v2 @ 2.80GHz | **Quadro M6000** | 1 | 10.37 |\n",
       "| 2016/09/13 | collins | gcc 4.8.5 | 7.5 | 2.0.3 | double | 64,000 |  Intel(R) Xeon(R) CPU E5-2680 v2 @ 2.80GHz | **GeForce GTX 680** | 1 | 15.06 |\n",
       "| 2015/12/14 | collins | gcc 4.9.3 | 7.5 | 1.3.0 | single | 64,000 |  Intel(R) Xeon(R) CPU E5-2680 v2 @ 2.80GHz | **Quadro M6000** | 1 | 1.60 |\n",
       "| 2015/12/14 | collins | gcc 4.9.3 | 7.5 | 1.3.0 | single | 64,000 |  Intel(R) Xeon(R) CPU E5-2680 v2 @ 2.80GHz | **Tesla K40c** | 1 | 2.70 |\n",
       "| 2015/12/14 | collins | gcc 4.9.3 | 7.5 | 1.3.0 | double | 64,000 |  Intel(R) Xeon(R) CPU E5-2680 v2 @ 2.80GHz | **Tesla K40c** | 1 | 3.55 |\n",
       "| 2015/12/14 | collins | gcc 4.9.3 | 7.5 | 1.3.0 | single | 64,000 |  Intel(R) Xeon(R) CPU E5-2680 v2 @ 2.80GHz | **GeForce GTX 680** | 1 | 3.74 |\n",
       "| 2015/12/14 | collins | gcc 4.9.3 | 7.5 | 1.3.0 | single | 64,000 |  Intel(R) Xeon(R) CPU E5-2680 v2 @ 2.80GHz | **Tesla C2070** | 1 | 7.68 |\n",
       "| 2015/12/14 | collins | gcc 4.9.3 | 7.5 | 1.3.0 | double | 64,000 |  Intel(R) Xeon(R) CPU E5-2680 v2 @ 2.80GHz | **Quadro M6000** | 1 | 9.96 |\n",
       "| 2015/12/14 | collins | gcc 4.9.3 | 7.5 | 1.3.0 | double | 64,000 |  Intel(R) Xeon(R) CPU E5-2680 v2 @ 2.80GHz | **Tesla C2070** | 1 | 10.53 |\n",
       "| 2015/12/14 | collins | gcc 4.9.3 | 7.5 | 1.3.0 | double | 64,000 |  Intel(R) Xeon(R) CPU E5-2680 v2 @ 2.80GHz | **GeForce GTX 680** | 1 | 15.19 |\n",
       "| 2015/12/14 | collins | gcc 4.9.3 | 7.5 | 1.2.1 | single | 64,000 |  Intel(R) Xeon(R) CPU E5-2680 v2 @ 2.80GHz | **Quadro M6000** | 1 | 1.64 |\n",
       "| 2015/12/14 | collins | gcc 4.9.3 | 7.5 | 1.2.1 | single | 64,000 |  Intel(R) Xeon(R) CPU E5-2680 v2 @ 2.80GHz | **Tesla K40c** | 1 | 2.80 |\n",
       "| 2015/12/14 | collins | gcc 4.9.3 | 7.5 | 1.2.1 | single | 64,000 |  Intel(R) Xeon(R) CPU E5-2680 v2 @ 2.80GHz | **GeForce GTX 680** | 1 | 3.86 |\n",
       "| 2015/12/14 | collins | gcc 4.9.3 | 7.5 | 1.2.1 | single | 64,000 |  Intel(R) Xeon(R) CPU E5-2680 v2 @ 2.80GHz | **Tesla C2070** | 1 | 7.86 |\n",
       "| 2015/12/14 | collins | gcc 4.9.3 | 7.5 | 1.1.1 | single | 64,000 |  Intel(R) Xeon(R) CPU E5-2680 v2 @ 2.80GHz | **Quadro M6000** | 1 | 1.41 |\n",
       "| 2015/12/14 | collins | gcc 4.9.3 | 7.5 | 1.1.1 | single | 64,000 |  Intel(R) Xeon(R) CPU E5-2680 v2 @ 2.80GHz | **Tesla K40c** | 1 | 2.37 |\n",
       "| 2015/12/14 | collins | gcc 4.9.3 | 7.5 | 1.1.1 | single | 64,000 |  Intel(R) Xeon(R) CPU E5-2680 v2 @ 2.80GHz | **GeForce GTX 680** | 1 | 3.31 |\n",
       "| 2015/12/14 | collins | gcc 4.9.3 | 7.5 | 1.1.1 | single | 64,000 |  Intel(R) Xeon(R) CPU E5-2680 v2 @ 2.80GHz | **Tesla C2070** | 1 | 6.12 |\n"
      ],
      "text/plain": [
       "<IPython.core.display.Markdown object>"
      ]
     },
     "execution_count": 3,
     "metadata": {},
     "output_type": "execute_result"
    }
   ],
   "source": [
    "rows = util.read_rows(benchmark)\n",
    "table = util.make_table(rows)\n",
    "Markdown(table)"
   ]
  },
  {
   "cell_type": "code",
   "execution_count": 4,
   "metadata": {
    "collapsed": false
   },
   "outputs": [
    {
     "data": {
      "text/html": [
       "<script>\n",
       "code_show=true; \n",
       "function code_toggle() {\n",
       " if (code_show){\n",
       " $('div.input').hide();\n",
       " } else {\n",
       " $('div.input').show();\n",
       " }\n",
       " code_show = !code_show\n",
       "} \n",
       "$( document ).ready(code_toggle);\n",
       "</script>\n",
       "The raw code for this IPython notebook is by default hidden for easier reading.To toggle on/off the raw code, click <a href=\"javascript:code_toggle()\">here</a>."
      ],
      "text/plain": [
       "<IPython.core.display.HTML object>"
      ]
     },
     "execution_count": 4,
     "metadata": {},
     "output_type": "execute_result"
    }
   ],
   "source": [
    "from IPython.display import HTML\n",
    "\n",
    "#Hide code blocks\n",
    "HTML('''<script>\n",
    "code_show=true; \n",
    "function code_toggle() {\n",
    " if (code_show){\n",
    " $('div.input').hide();\n",
    " } else {\n",
    " $('div.input').show();\n",
    " }\n",
    " code_show = !code_show\n",
    "} \n",
    "$( document ).ready(code_toggle);\n",
    "</script>\n",
    "The raw code for this IPython notebook is by default hidden for easier reading.To toggle on/off the raw code, click <a href=\"javascript:code_toggle()\">here</a>.''')"
   ]
  },
  {
   "cell_type": "code",
   "execution_count": null,
   "metadata": {
    "collapsed": true
   },
   "outputs": [],
   "source": []
  }
 ],
 "metadata": {
  "kernelspec": {
   "display_name": "Python 3",
   "language": "python",
   "name": "python3"
  },
  "language_info": {
   "codemirror_mode": {
    "name": "ipython",
    "version": 3
   },
   "file_extension": ".py",
   "mimetype": "text/x-python",
   "name": "python",
   "nbconvert_exporter": "python",
   "pygments_lexer": "ipython3",
   "version": "3.4.5"
  }
 },
 "nbformat": 4,
 "nbformat_minor": 0
}
