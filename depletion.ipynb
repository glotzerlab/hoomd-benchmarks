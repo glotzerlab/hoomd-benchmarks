{
 "cells": [
  {
   "cell_type": "code",
   "execution_count": 1,
   "metadata": {
    "collapsed": false
   },
   "outputs": [],
   "source": [
    "import util\n",
    "import os\n",
    "from IPython.core.display import Markdown\n",
    "benchmark = 'depletion'"
   ]
  },
  {
   "cell_type": "code",
   "execution_count": 2,
   "metadata": {
    "collapsed": false,
    "scrolled": false
   },
   "outputs": [
    {
     "data": {
      "text/markdown": [
       "# depletion benchmark\n",
       "\n",
       "The depletion benchmark runs a system of $1000$ cuboctahedra, with depletants at a size ratio $q=0.25$ and a reservoir density of $\\phi_{dep}^r=0.80$.\n",
       "\n",
       "Under these conditions, the cuboctahedra forms a dense sheared BCC crystal. The depletion method was described in:\n",
       "[Glaser, J et al. A parallel algorithm for implicit depletant simulations. Journal of Chemical Physics, 2015.](http://scitation.aip.org/content/aip/journal/jcp/143/18/10.1063/1.4935175)\n",
       "The cuboctahedra with depletion system was studied in the research article:\n",
       "[Karas AS et al. Using depletion to control colloidal crystal assemblies of hard cuboctahedra. Soft Matter, 2015](http://pubs.rsc.org/en/content/articlelanding/2016/sm/c6sm00620e)\n",
       "\n",
       "<img src=\"depletion/depletion.png\" style=\"width: 280px;\"/>\n",
       "\n",
       "Parameters:\n",
       "\n",
       "* $N = 1000$\n",
       "* Hard particle Monte Carlo\n",
       "    * Polyhedron Vertices: [[-0.53139075, -0.53139075, 0], [-0.53139075, 0.53139075, 0], [0.53139075, -0.53139075, 0], [0.53139075, 0.53139075, 0], [0, -0.53139075, -0.531390750], [0, -0.53139075, 0.53139075], [0, 0.53139075, -0.53139075], [0, 0.53139075, 0.53139075], [-0.53139075, 0, -0.53139075], [-0.53139075, 0, 0.53139075], [0.53139075, 0, -0.53139075], [0.53139075, 0, 0.53139075]]\n",
       "    * Polyhedron sweep radius: 0\n",
       "    * Depletant vertices: []\n",
       "    * Depletant sweep radius: $0.7515*0.25 = 0.1879$\n",
       "    * $d = 0.0351 $\n",
       "    * $a = 0.0544 $\n",
       "    * implicit = True\n",
       "    * $nR = 28.8 $\n",
       "    * ntrial = 0\n",
       "* Log file period: 10000 time steps\n",
       "\n"
      ],
      "text/plain": [
       "<IPython.core.display.Markdown object>"
      ]
     },
     "execution_count": 2,
     "metadata": {},
     "output_type": "execute_result"
    }
   ],
   "source": [
    "Markdown(open(os.path.join(benchmark, 'README.md'), 'r').read())"
   ]
  },
  {
   "cell_type": "markdown",
   "metadata": {},
   "source": [
    "## Performance data\n",
    "\n",
    "Performance results are reported in hours to complete ten million Monte Carlo sweeps, where one sweep is N trial moves."
   ]
  },
  {
   "cell_type": "code",
   "execution_count": 3,
   "metadata": {
    "collapsed": false,
    "scrolled": true
   },
   "outputs": [
    {
     "data": {
      "text/markdown": [
       "| Date | System | Compiler | CUDA | HOOMD | Precision | N | CPU | GPU | Ranks | Time for 10e6 steps (hours)|\n",
       "|------|--------|----------|------|-------|-----------|---|-----|-----|-------|---------------:|\n",
       "| 2016/09/13 | collins | gcc 4.8.5 | 7.5 | 2.0.3 | double | 1,000 |  Intel(R) Xeon(R) CPU E5-2680 v2 @ 2.80GHz | **TITAN X** | 1 | 15.95 |\n",
       "| 2016/09/13 | collins | gcc 4.8.5 | 7.5 | 2.0.3 | double | 1,000 |  Intel(R) Xeon(R) CPU E5-2680 v2 @ 2.80GHz | **Quadro M6000** | 1 | 29.01 |\n",
       "| 2016/09/13 | collins | gcc 4.8.5 | 7.5 | 2.0.3 | double | 1,000 |  Intel(R) Xeon(R) CPU E5-2680 v2 @ 2.80GHz | **Tesla K40c** | 1 | 33.97 |\n",
       "| 2016/09/13 | collins | gcc 4.8.5 | 7.5 | 2.0.3 | double | 1,000 |  Intel(R) Xeon(R) CPU E5-2680 v2 @ 2.80GHz | **GeForce GTX 680** | 1 | 37.28 |\n"
      ],
      "text/plain": [
       "<IPython.core.display.Markdown object>"
      ]
     },
     "execution_count": 3,
     "metadata": {},
     "output_type": "execute_result"
    }
   ],
   "source": [
    "rows = util.read_rows(benchmark)\n",
    "table = util.make_table(rows)\n",
    "Markdown(table)"
   ]
  },
  {
   "cell_type": "code",
   "execution_count": 4,
   "metadata": {
    "collapsed": false,
    "scrolled": true
   },
   "outputs": [
    {
     "data": {
      "text/html": [
       "<script>\n",
       "code_show=true; \n",
       "function code_toggle() {\n",
       " if (code_show){\n",
       " $('div.input').hide();\n",
       " } else {\n",
       " $('div.input').show();\n",
       " }\n",
       " code_show = !code_show\n",
       "} \n",
       "$( document ).ready(code_toggle);\n",
       "</script>\n",
       "The raw code for this IPython notebook is by default hidden for easier reading.To toggle on/off the raw code, click <a href=\"javascript:code_toggle()\">here</a>."
      ],
      "text/plain": [
       "<IPython.core.display.HTML object>"
      ]
     },
     "execution_count": 4,
     "metadata": {},
     "output_type": "execute_result"
    }
   ],
   "source": [
    "from IPython.display import HTML\n",
    "\n",
    "#Hide code blocks\n",
    "HTML('''<script>\n",
    "code_show=true; \n",
    "function code_toggle() {\n",
    " if (code_show){\n",
    " $('div.input').hide();\n",
    " } else {\n",
    " $('div.input').show();\n",
    " }\n",
    " code_show = !code_show\n",
    "} \n",
    "$( document ).ready(code_toggle);\n",
    "</script>\n",
    "The raw code for this IPython notebook is by default hidden for easier reading.To toggle on/off the raw code, click <a href=\"javascript:code_toggle()\">here</a>.''')"
   ]
  },
  {
   "cell_type": "code",
   "execution_count": null,
   "metadata": {
    "collapsed": true
   },
   "outputs": [],
   "source": []
  }
 ],
 "metadata": {
  "kernelspec": {
   "display_name": "Python 3",
   "language": "python",
   "name": "python3"
  },
  "language_info": {
   "codemirror_mode": {
    "name": "ipython",
    "version": 3
   },
   "file_extension": ".py",
   "mimetype": "text/x-python",
   "name": "python",
   "nbconvert_exporter": "python",
   "pygments_lexer": "ipython3",
   "version": "3.5.2"
  }
 },
 "nbformat": 4,
 "nbformat_minor": 0
}
