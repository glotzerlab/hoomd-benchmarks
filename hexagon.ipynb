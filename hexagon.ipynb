{
 "cells": [
  {
   "cell_type": "code",
   "execution_count": 2,
   "metadata": {
    "collapsed": false
   },
   "outputs": [],
   "source": [
    "import util\n",
    "import os\n",
    "from IPython.core.display import Markdown\n",
    "benchmark = 'hexagon'"
   ]
  },
  {
   "cell_type": "code",
   "execution_count": 3,
   "metadata": {
    "collapsed": false,
    "scrolled": false
   },
   "outputs": [
    {
     "data": {
      "text/markdown": [
       "# hexagon benchmark\n",
       "\n",
       "The hexagon benchmark runs a system of $1024^2$ hexagons using hard particle Monte Carlo.\n",
       "At this density, the system is in the middle of the hexatic phase. This model is used in the research article:\n",
       "[Anderson, JA et. al. Fluid-to-solid transition of hard regular polygons. Submitted, 2016](http://arxiv.org/abs/1606.00687)\n",
       "\n",
       "<img src=\"hexagon/hexagon.png\" style=\"width: 280px;\"/>\n",
       "\n",
       "Parameters:\n",
       "\n",
       "* $N = 1,048,576$\n",
       "* Hard particle Monte Carlo\n",
       "    * Vertices: [[0.5,0],[0.25,0.433012701892219],[-0.25,0.433012701892219],[-0.5,0],[-0.25,-0.433012701892219],[0.25,-0.433012701892219]]\n",
       "    * $d = 0.17010672166874857$\n",
       "    * $a = 1.0471975511965976$\n",
       "    * $n_\\mathrm{select} = 4$\n",
       "* Log file period: 10000 time steps\n",
       "* SDF analysis\n",
       "    * $x_\\mathrm{max} = =0.02$\n",
       "    * $\\delta x = 10^{-4}$\n",
       "    * period: 50 time steps\n",
       "    * $n_\\mathrm{avg} = 2000$\n",
       "* DCD dump period: 100000\n"
      ],
      "text/plain": [
       "<IPython.core.display.Markdown object>"
      ]
     },
     "execution_count": 3,
     "metadata": {},
     "output_type": "execute_result"
    }
   ],
   "source": [
    "Markdown(open(os.path.join(benchmark, 'README.md'), 'r').read())"
   ]
  },
  {
   "cell_type": "markdown",
   "metadata": {},
   "source": [
    "## Performance data\n",
    "\n",
    "Performance results are reported in hours to complete ten million Monte Carlo sweeps, where one sweep is N trial moves."
   ]
  },
  {
   "cell_type": "code",
   "execution_count": 4,
   "metadata": {
    "collapsed": false,
    "scrolled": true
   },
   "outputs": [
    {
     "data": {
      "text/markdown": [
       "| Date | System | Compiler | CUDA | HOOMD | Precision | N | CPU | GPU | Ranks | Time for 10e6 steps (hours)|\n",
       "|------|--------|----------|------|-------|-----------|---|-----|-----|-------|---------------:|\n",
       "| 2016/09/13 | flux | gcc 4.9.3 | 7.5 | 2.0.3 | double | 1,048,576 |  6-Core AMD Opteron(tm) Processor 23 (D0) | **Tesla K20X** | 64 | 2.45 |\n",
       "| 2016/09/13 | collins | gcc 4.8.5 | 7.5 | 2.0.3 | double | 1,048,576 |  Intel(R) Xeon(R) CPU E5-2680 v2 @ 2.80GHz | **TITAN X** | 1 | 38.81 |\n",
       "| 2016/09/13 | collins | gcc 4.8.5 | 7.5 | 2.0.3 | double | 1,048,576 |  Intel(R) Xeon(R) CPU E5-2680 v2 @ 2.80GHz | **Quadro M6000** | 1 | 45.54 |\n",
       "| 2016/09/13 | collins | gcc 4.8.5 | 7.5 | 2.0.3 | double | 1,048,576 |  Intel(R) Xeon(R) CPU E5-2680 v2 @ 2.80GHz | **Tesla K40c** | 1 | 54.62 |\n",
       "| 2016/09/13 | collins | gcc 4.8.5 | 7.5 | 2.0.3 | double | 1,048,576 |  Intel(R) Xeon(R) CPU E5-2680 v2 @ 2.80GHz | **GeForce GTX 680** | 1 | 84.30 |\n"
      ],
      "text/plain": [
       "<IPython.core.display.Markdown object>"
      ]
     },
     "execution_count": 4,
     "metadata": {},
     "output_type": "execute_result"
    }
   ],
   "source": [
    "rows = util.read_rows(benchmark)\n",
    "table = util.make_table(rows)\n",
    "Markdown(table)"
   ]
  },
  {
   "cell_type": "code",
   "execution_count": 4,
   "metadata": {
    "collapsed": false,
    "scrolled": true
   },
   "outputs": [
    {
     "data": {
      "text/html": [
       "<script>\n",
       "code_show=true; \n",
       "function code_toggle() {\n",
       " if (code_show){\n",
       " $('div.input').hide();\n",
       " } else {\n",
       " $('div.input').show();\n",
       " }\n",
       " code_show = !code_show\n",
       "} \n",
       "$( document ).ready(code_toggle);\n",
       "</script>\n",
       "The raw code for this IPython notebook is by default hidden for easier reading.To toggle on/off the raw code, click <a href=\"javascript:code_toggle()\">here</a>."
      ],
      "text/plain": [
       "<IPython.core.display.HTML object>"
      ]
     },
     "execution_count": 4,
     "metadata": {},
     "output_type": "execute_result"
    }
   ],
   "source": [
    "from IPython.display import HTML\n",
    "\n",
    "#Hide code blocks\n",
    "HTML('''<script>\n",
    "code_show=true; \n",
    "function code_toggle() {\n",
    " if (code_show){\n",
    " $('div.input').hide();\n",
    " } else {\n",
    " $('div.input').show();\n",
    " }\n",
    " code_show = !code_show\n",
    "} \n",
    "$( document ).ready(code_toggle);\n",
    "</script>\n",
    "The raw code for this IPython notebook is by default hidden for easier reading.To toggle on/off the raw code, click <a href=\"javascript:code_toggle()\">here</a>.''')"
   ]
  },
  {
   "cell_type": "code",
   "execution_count": null,
   "metadata": {
    "collapsed": true
   },
   "outputs": [],
   "source": []
  }
 ],
 "metadata": {
  "kernelspec": {
   "display_name": "Python 3",
   "language": "python",
   "name": "python3"
  },
  "language_info": {
   "codemirror_mode": {
    "name": "ipython",
    "version": 3
   },
   "file_extension": ".py",
   "mimetype": "text/x-python",
   "name": "python",
   "nbconvert_exporter": "python",
   "pygments_lexer": "ipython3",
   "version": "3.5.2"
  }
 },
 "nbformat": 4,
 "nbformat_minor": 0
}
