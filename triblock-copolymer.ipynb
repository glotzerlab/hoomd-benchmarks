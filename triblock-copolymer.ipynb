{
 "cells": [
  {
   "cell_type": "code",
   "execution_count": 1,
   "metadata": {
    "collapsed": false
   },
   "outputs": [],
   "source": [
    "import util\n",
    "import os\n",
    "from IPython.core.display import Markdown\n",
    "benchmark = 'triblock-copolymer'"
   ]
  },
  {
   "cell_type": "code",
   "execution_count": 2,
   "metadata": {
    "collapsed": false,
    "scrolled": false
   },
   "outputs": [
    {
     "data": {
      "text/markdown": [
       "# triblock-copolymer benchmark\n",
       "\n",
       "The triblock copolymer benchmark runs a system of A10-B7-A10 triblock copolymers that form\n",
       "spherical micelles which organize into a bcc phase. This model is used in the research article:\n",
       "[Anderson, JA et. al. - Coarse-Grained Simulations of Gels of Nonionic Multiblock Copolymers with Hydrophobic Groups. Macromolecules, 39(15):5143–5151, July 2006.](http://dx.doi.org/10.1021/ma061120f)\n",
       "\n",
       "<img src=\"triblock-copolymer/triblock-copolymer.png\" style=\"width: 280px;\"/>\n",
       "\n",
       "Parameters:\n",
       "\n",
       "* $N = 64017$\n",
       "* $\\rho = 0.382$\n",
       "* Lennard-Jones pair force\n",
       "    * $r_\\mathrm{cut} = 3.0$\n",
       "    * $\\epsilon = 1.0$\n",
       "    * $\\sigma = 1.0$\n",
       "    * $\\alpha_\\mathrm{AA}=0$, $\\alpha_\\mathrm{AB}=0$, $\\alpha_\\mathrm{BB}=1$\n",
       "* Harmonic bond force\n",
       "    * $k = 330$\n",
       "    * $r_0 = 0.84$\n",
       "* Integration: Nos&eacute;-Hoover NVT\n",
       "    * $T=1.2$\n",
       "    * $\\tau=0.5$\n",
       "    * $\\delta t = 0.005$\n"
      ],
      "text/plain": [
       "<IPython.core.display.Markdown object>"
      ]
     },
     "execution_count": 2,
     "metadata": {},
     "output_type": "execute_result"
    }
   ],
   "source": [
    "Markdown(open(os.path.join(benchmark, 'README.md'), 'r').read())"
   ]
  },
  {
   "cell_type": "markdown",
   "metadata": {},
   "source": [
    "## Performance data\n",
    "\n",
    "Performance results are reported in hours to complete ten million time steps."
   ]
  },
  {
   "cell_type": "code",
   "execution_count": 3,
   "metadata": {
    "collapsed": false,
    "scrolled": true
   },
   "outputs": [
    {
     "data": {
      "text/markdown": [
       "| Date | System | Compiler | CUDA | HOOMD | Precision | N | CPU | GPU | Ranks | Time for 10e6 steps (hours)|\n",
       "|------|--------|----------|------|-------|-----------|---|-----|-----|-------|---------------:|\n",
       "| 2016/10/23 | psg | gcc 4.8.5 | 8.0 | 2.1.1 | double | 64,017 |  Intel(R) Xeon(R) CPU E5-2698 v3 @ 2.30GHz | **Tesla P100-PCIE-16GB** | 1 | 1.79 |\n",
       "| 2016/10/23 | psg | gcc 4.8.5 | 8.0 | 2.1.1 | double | 64,017 |  Intel(R) Xeon(R) CPU E5-2698 v3 @ 2.30GHz | **Tesla K80** | 1 | 4.61 |\n",
       "| 2016/10/23 | psg | gcc 4.8.5 | 8.0 | 2.1.1 | double | 64,017 |  Intel(R) Xeon(R) CPU E5-2698 v3 @ 2.30GHz | **Tesla K40m** | 1 | 4.98 |\n",
       "| 2016/10/23 | psg | gcc 4.8.5 | 8.0 | 2.1.1 | double | 64,017 |  Intel(R) Xeon(R) CPU E5-2698 v3 @ 2.30GHz | **Tesla M40 24GB** | 1 | 9.81 |\n",
       "| 2016/10/12 | psg | gcc 4.8.5 | 8.0 | 2.1.0 | double | 64,017 |  Intel(R) Xeon(R) CPU E5-2698 v3 @ 2.30GHz | **Tesla P100-PCIE-16GB** | 1 | 1.80 |\n",
       "| 2016/10/12 | psg | gcc 4.8.5 | 8.0 | 2.1.0 | double | 64,017 |  Intel(R) Xeon(R) CPU E5-2698 v3 @ 2.30GHz | **Tesla K80** | 1 | 4.67 |\n",
       "| 2016/10/13 | psg | gcc 4.8.5 | 7.5 | 2.1.0 | double | 64,017 |  Intel(R) Xeon(R) CPU E5-2698 v3 @ 2.30GHz | **Tesla K40m** | 1 | 5.00 |\n",
       "| 2016/10/13 | psg | gcc 4.8.5 | 7.5 | 2.1.0 | double | 64,017 |  Intel(R) Xeon(R) CPU E5-2698 v3 @ 2.30GHz | **Tesla M40 24GB** | 1 | 9.84 |\n",
       "| 2016/09/13 | collins | gcc 4.8.5 | 7.5 | 2.0.3 | double | 64,017 |  Intel(R) Xeon(R) CPU E5-2680 v2 @ 2.80GHz | **Tesla K40c** | 1 | 4.25 |\n",
       "| 2016/09/13 | collins | gcc 4.8.5 | 7.5 | 2.0.3 | double | 64,017 |  Intel(R) Xeon(R) CPU E5-2680 v2 @ 2.80GHz | **TITAN X** | 1 | 5.82 |\n",
       "| 2016/09/13 | collins | gcc 4.8.5 | 7.5 | 2.0.3 | double | 64,017 |  Intel(R) Xeon(R) CPU E5-2680 v2 @ 2.80GHz | **Quadro M6000** | 1 | 10.73 |\n",
       "| 2016/09/13 | collins | gcc 4.8.5 | 7.5 | 2.0.3 | double | 64,017 |  Intel(R) Xeon(R) CPU E5-2680 v2 @ 2.80GHz | **GeForce GTX 680** | 1 | 16.60 |\n",
       "| 2015/12/14 | collins | gcc 4.9.3 | 7.5 | 1.3.0 | single | 64,017 |  Intel(R) Xeon(R) CPU E5-2680 v2 @ 2.80GHz | **Quadro M6000** | 1 | 2.32 |\n",
       "| 2015/12/14 | collins | gcc 4.9.3 | 7.5 | 1.3.0 | single | 64,017 |  Intel(R) Xeon(R) CPU E5-2680 v2 @ 2.80GHz | **Tesla K40c** | 1 | 3.51 |\n",
       "| 2015/12/14 | collins | gcc 4.9.3 | 7.5 | 1.3.0 | double | 64,017 |  Intel(R) Xeon(R) CPU E5-2680 v2 @ 2.80GHz | **Tesla K40c** | 1 | 4.51 |\n",
       "| 2015/12/14 | collins | gcc 4.9.3 | 7.5 | 1.3.0 | single | 64,017 |  Intel(R) Xeon(R) CPU E5-2680 v2 @ 2.80GHz | **GeForce GTX 680** | 1 | 5.45 |\n",
       "| 2015/12/14 | collins | gcc 4.9.3 | 7.5 | 1.3.0 | single | 64,017 |  Intel(R) Xeon(R) CPU E5-2680 v2 @ 2.80GHz | **Tesla C2070** | 1 | 9.31 |\n",
       "| 2015/12/14 | collins | gcc 4.9.3 | 7.5 | 1.3.0 | double | 64,017 |  Intel(R) Xeon(R) CPU E5-2680 v2 @ 2.80GHz | **Quadro M6000** | 1 | 12.73 |\n",
       "| 2015/12/14 | collins | gcc 4.9.3 | 7.5 | 1.3.0 | double | 64,017 |  Intel(R) Xeon(R) CPU E5-2680 v2 @ 2.80GHz | **Tesla C2070** | 1 | 13.05 |\n",
       "| 2015/12/14 | collins | gcc 4.9.3 | 7.5 | 1.3.0 | double | 64,017 |  Intel(R) Xeon(R) CPU E5-2680 v2 @ 2.80GHz | **GeForce GTX 680** | 1 | 16.91 |\n",
       "| 2015/12/14 | collins | gcc 4.9.3 | 7.5 | 1.2.1 | single | 64,017 |  Intel(R) Xeon(R) CPU E5-2680 v2 @ 2.80GHz | **Quadro M6000** | 1 | 2.39 |\n",
       "| 2015/12/14 | collins | gcc 4.9.3 | 7.5 | 1.2.1 | single | 64,017 |  Intel(R) Xeon(R) CPU E5-2680 v2 @ 2.80GHz | **Tesla K40c** | 1 | 3.56 |\n",
       "| 2015/12/14 | collins | gcc 4.9.3 | 7.5 | 1.2.1 | single | 64,017 |  Intel(R) Xeon(R) CPU E5-2680 v2 @ 2.80GHz | **GeForce GTX 680** | 1 | 5.55 |\n",
       "| 2015/12/14 | collins | gcc 4.9.3 | 7.5 | 1.2.1 | single | 64,017 |  Intel(R) Xeon(R) CPU E5-2680 v2 @ 2.80GHz | **Tesla C2070** | 1 | 9.54 |\n",
       "| 2015/12/14 | collins | gcc 4.9.3 | 7.5 | 1.1.1 | single | 64,017 |  Intel(R) Xeon(R) CPU E5-2680 v2 @ 2.80GHz | **Quadro M6000** | 1 | 1.81 |\n",
       "| 2015/12/14 | collins | gcc 4.9.3 | 7.5 | 1.1.1 | single | 64,017 |  Intel(R) Xeon(R) CPU E5-2680 v2 @ 2.80GHz | **Tesla K40c** | 1 | 2.74 |\n",
       "| 2015/12/14 | collins | gcc 4.9.3 | 7.5 | 1.1.1 | single | 64,017 |  Intel(R) Xeon(R) CPU E5-2680 v2 @ 2.80GHz | **GeForce GTX 680** | 1 | 3.81 |\n",
       "| 2015/12/14 | collins | gcc 4.9.3 | 7.5 | 1.1.1 | single | 64,017 |  Intel(R) Xeon(R) CPU E5-2680 v2 @ 2.80GHz | **Tesla C2070** | 1 | 7.20 |\n"
      ],
      "text/plain": [
       "<IPython.core.display.Markdown object>"
      ]
     },
     "execution_count": 3,
     "metadata": {},
     "output_type": "execute_result"
    }
   ],
   "source": [
    "rows = util.read_rows(benchmark)\n",
    "table = util.make_table(rows)\n",
    "Markdown(table)"
   ]
  },
  {
   "cell_type": "code",
   "execution_count": 4,
   "metadata": {
    "collapsed": false,
    "scrolled": true
   },
   "outputs": [
    {
     "data": {
      "text/html": [
       "<script>\n",
       "code_show=true; \n",
       "function code_toggle() {\n",
       " if (code_show){\n",
       " $('div.input').hide();\n",
       " } else {\n",
       " $('div.input').show();\n",
       " }\n",
       " code_show = !code_show\n",
       "} \n",
       "$( document ).ready(code_toggle);\n",
       "</script>\n",
       "The raw code for this IPython notebook is by default hidden for easier reading.To toggle on/off the raw code, click <a href=\"javascript:code_toggle()\">here</a>."
      ],
      "text/plain": [
       "<IPython.core.display.HTML object>"
      ]
     },
     "execution_count": 4,
     "metadata": {},
     "output_type": "execute_result"
    }
   ],
   "source": [
    "from IPython.display import HTML\n",
    "\n",
    "#Hide code blocks\n",
    "HTML('''<script>\n",
    "code_show=true; \n",
    "function code_toggle() {\n",
    " if (code_show){\n",
    " $('div.input').hide();\n",
    " } else {\n",
    " $('div.input').show();\n",
    " }\n",
    " code_show = !code_show\n",
    "} \n",
    "$( document ).ready(code_toggle);\n",
    "</script>\n",
    "The raw code for this IPython notebook is by default hidden for easier reading.To toggle on/off the raw code, click <a href=\"javascript:code_toggle()\">here</a>.''')"
   ]
  },
  {
   "cell_type": "code",
   "execution_count": null,
   "metadata": {
    "collapsed": true
   },
   "outputs": [],
   "source": []
  }
 ],
 "metadata": {
  "kernelspec": {
   "display_name": "Python 3",
   "language": "python",
   "name": "python3"
  },
  "language_info": {
   "codemirror_mode": {
    "name": "ipython",
    "version": 3
   },
   "file_extension": ".py",
   "mimetype": "text/x-python",
   "name": "python",
   "nbconvert_exporter": "python",
   "pygments_lexer": "ipython3",
   "version": "3.4.5"
  }
 },
 "nbformat": 4,
 "nbformat_minor": 0
}
