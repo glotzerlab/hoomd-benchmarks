{
 "cells": [
  {
   "cell_type": "code",
   "execution_count": 1,
   "metadata": {
    "collapsed": false
   },
   "outputs": [],
   "source": [
    "import util\n",
    "import os\n",
    "from IPython.core.display import Markdown\n",
    "benchmark = 'microsphere'"
   ]
  },
  {
   "cell_type": "code",
   "execution_count": 2,
   "metadata": {
    "collapsed": false
   },
   "outputs": [
    {
     "data": {
      "text/markdown": [
       "# microsphere benchmark\n",
       "\n",
       "The microrsphere benchmark runs a system of star polymers in an explicit solvent using DPD.\n",
       "These organize into a microspherical droplet. This model is used in the research article:\n",
       "[Zhang et. al. Simultaneous Nano- and Microscale Control of Nanofibrous Microspheres Self-Assembled from Star-Shaped Polymers. Advanced Materials, pages 3947â3952 , 2015.](http://dx.doi.org/10.1002/adma.201501329)\n",
       "\n",
       "<img src=\"microsphere/microsphere.png\" style=\"width: 280px;\"/>\n",
       "\n",
       "Parameters:\n",
       "\n",
       "* $N = 1,428,364$\n",
       "* $r_\\mathrm{cut} = 1.0$\n",
       "* DPD pair force\n",
       "    * See `bmark.py` for full force field specification.\n",
       "* Harmonic bond force\n",
       "* Integration: DPD thermostat\n",
       "    * $T=1.0$\n",
       "    * $\\delta t = 0.01$\n"
      ],
      "text/plain": [
       "<IPython.core.display.Markdown object>"
      ]
     },
     "execution_count": 2,
     "metadata": {},
     "output_type": "execute_result"
    }
   ],
   "source": [
    "Markdown(open(os.path.join(benchmark, 'README.md'), 'r').read())"
   ]
  },
  {
   "cell_type": "markdown",
   "metadata": {},
   "source": [
    "## Performance data\n",
    "\n",
    "Performance results are reported in particle moves per second (MPS), which is $N$ multipied by time steps per second achieved."
   ]
  },
  {
   "cell_type": "code",
   "execution_count": 3,
   "metadata": {
    "collapsed": false,
    "scrolled": false
   },
   "outputs": [
    {
     "data": {
      "text/markdown": [
       "| Date | System | Compiler | CUDA | HOOMD | Precision | N | CPU | GPU | Ranks | MPS (millions) |\n",
       "|------|--------|----------|------|-------|-----------|---|-----|-----|-------|---------------:|\n",
       "| 2015/12/15 | collins | gcc 4.9.3 | 7.5 | 1.3.0 | single | 1,428,364 |  Intel(R) Xeon(R) CPU E5-2680 v2 @ 2.80GHz | **Quadro M6000** | 1 | 104.58 |\n",
       "| 2015/12/15 | collins | gcc 4.9.3 | 7.5 | 1.3.0 | single | 1,428,364 |  Intel(R) Xeon(R) CPU E5-2680 v2 @ 2.80GHz | **Tesla K40c** | 1 | 66.40 |\n",
       "| 2015/12/15 | collins | gcc 4.9.3 | 7.5 | 1.3.0 | double | 1,428,364 |  Intel(R) Xeon(R) CPU E5-2680 v2 @ 2.80GHz | **Tesla K40c** | 1 | 44.78 |\n",
       "| 2015/12/15 | collins | gcc 4.9.3 | 7.5 | 1.3.0 | double | 1,428,364 |  Intel(R) Xeon(R) CPU E5-2680 v2 @ 2.80GHz | **Quadro M6000** | 1 | 23.88 |\n",
       "| 2015/12/15 | collins | gcc 4.9.3 | 7.5 | 1.3.0 | single | 1,428,364 |  Intel(R) Xeon(R) CPU E5-2680 v2 @ 2.80GHz | **Tesla C2070** | 1 | 19.56 |\n",
       "| 2015/12/15 | collins | gcc 4.9.3 | 7.5 | 1.3.0 | double | 1,428,364 |  Intel(R) Xeon(R) CPU E5-2680 v2 @ 2.80GHz | **Tesla C2070** | 1 | 11.14 |\n",
       "| 2015/12/15 | collins | gcc 4.9.3 | 7.5 | 1.2.1 | single | 1,428,364 |  Intel(R) Xeon(R) CPU E5-2680 v2 @ 2.80GHz | **Quadro M6000** | 1 | 106.03 |\n",
       "| 2015/12/15 | collins | gcc 4.9.3 | 7.5 | 1.2.1 | single | 1,428,364 |  Intel(R) Xeon(R) CPU E5-2680 v2 @ 2.80GHz | **Tesla K40c** | 1 | 66.24 |\n",
       "| 2015/12/15 | collins | gcc 4.9.3 | 7.5 | 1.2.1 | single | 1,428,364 |  Intel(R) Xeon(R) CPU E5-2680 v2 @ 2.80GHz | **Tesla C2070** | 1 | 19.40 |\n",
       "| 2015/12/15 | collins | gcc 4.9.3 | 7.5 | 1.1.1 | single | 1,428,364 |  Intel(R) Xeon(R) CPU E5-2680 v2 @ 2.80GHz | **Quadro M6000** | 1 | 157.47 |\n",
       "| 2015/12/15 | collins | gcc 4.9.3 | 7.5 | 1.1.1 | single | 1,428,364 |  Intel(R) Xeon(R) CPU E5-2680 v2 @ 2.80GHz | **Tesla K40c** | 1 | 95.11 |\n",
       "| 2015/12/15 | collins | gcc 4.9.3 | 7.5 | 1.1.1 | single | 1,428,364 |  Intel(R) Xeon(R) CPU E5-2680 v2 @ 2.80GHz | **GeForce GTX 680** | 1 | 51.09 |\n",
       "| 2015/12/15 | collins | gcc 4.9.3 | 7.5 | 1.1.1 | single | 1,428,364 |  Intel(R) Xeon(R) CPU E5-2680 v2 @ 2.80GHz | **Tesla C2070** | 1 | 30.18 |\n"
      ],
      "text/plain": [
       "<IPython.core.display.Markdown object>"
      ]
     },
     "execution_count": 3,
     "metadata": {},
     "output_type": "execute_result"
    }
   ],
   "source": [
    "rows = util.read_rows(benchmark)\n",
    "table = util.make_table(rows)\n",
    "Markdown(table)"
   ]
  },
  {
   "cell_type": "code",
   "execution_count": 4,
   "metadata": {
    "collapsed": false
   },
   "outputs": [
    {
     "data": {
      "text/html": [
       "<script>\n",
       "code_show=true; \n",
       "function code_toggle() {\n",
       " if (code_show){\n",
       " $('div.input').hide();\n",
       " } else {\n",
       " $('div.input').show();\n",
       " }\n",
       " code_show = !code_show\n",
       "} \n",
       "$( document ).ready(code_toggle);\n",
       "</script>\n",
       "The raw code for this IPython notebook is by default hidden for easier reading.To toggle on/off the raw code, click <a href=\"javascript:code_toggle()\">here</a>."
      ],
      "text/plain": [
       "<IPython.core.display.HTML object>"
      ]
     },
     "execution_count": 4,
     "metadata": {},
     "output_type": "execute_result"
    }
   ],
   "source": [
    "from IPython.display import HTML\n",
    "\n",
    "#Hide code blocks\n",
    "HTML('''<script>\n",
    "code_show=true; \n",
    "function code_toggle() {\n",
    " if (code_show){\n",
    " $('div.input').hide();\n",
    " } else {\n",
    " $('div.input').show();\n",
    " }\n",
    " code_show = !code_show\n",
    "} \n",
    "$( document ).ready(code_toggle);\n",
    "</script>\n",
    "The raw code for this IPython notebook is by default hidden for easier reading.To toggle on/off the raw code, click <a href=\"javascript:code_toggle()\">here</a>.''')"
   ]
  },
  {
   "cell_type": "code",
   "execution_count": null,
   "metadata": {
    "collapsed": true
   },
   "outputs": [],
   "source": []
  }
 ],
 "metadata": {
  "kernelspec": {
   "display_name": "Python 3",
   "language": "python",
   "name": "python3"
  },
  "language_info": {
   "codemirror_mode": {
    "name": "ipython",
    "version": 3
   },
   "file_extension": ".py",
   "mimetype": "text/x-python",
   "name": "python",
   "nbconvert_exporter": "python",
   "pygments_lexer": "ipython3",
   "version": "3.3.5"
  }
 },
 "nbformat": 4,
 "nbformat_minor": 0
}
